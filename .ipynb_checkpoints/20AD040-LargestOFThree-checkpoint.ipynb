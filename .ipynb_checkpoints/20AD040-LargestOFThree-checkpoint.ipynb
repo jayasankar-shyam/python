{
 "cells": [
  {
   "cell_type": "code",
   "execution_count": null,
   "id": "02ca29fb",
   "metadata": {},
   "outputs": [],
   "source": [
    "a=int(input(\"Enter the first number : \"))\n",
    "b=int(input(\"Enter the second number : \"))\n",
    "c=int(input(\"Enter the third number : \"))\n",
    "if(a>=b and a>=c):\n",
    "    print(a,\"is largest\")\n",
    "elif(b>=a and b>=c):\n",
    "    print(b,\"is largest\")\n",
    "else:\n",
    "    print(c,\"is the largest\")"
   ]
  },
  {
   "cell_type": "code",
   "execution_count": null,
   "id": "67e5ac14",
   "metadata": {},
   "outputs": [],
   "source": []
  }
 ],
 "metadata": {
  "kernelspec": {
   "display_name": "Python 3 (ipykernel)",
   "language": "python",
   "name": "python3"
  },
  "language_info": {
   "codemirror_mode": {
    "name": "ipython",
    "version": 3
   },
   "file_extension": ".py",
   "mimetype": "text/x-python",
   "name": "python",
   "nbconvert_exporter": "python",
   "pygments_lexer": "ipython3",
   "version": "3.10.4"
  }
 },
 "nbformat": 4,
 "nbformat_minor": 5
}
