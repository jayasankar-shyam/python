{
 "cells": [
  {
   "cell_type": "code",
   "execution_count": 1,
   "id": "f22e1d6e",
   "metadata": {},
   "outputs": [
    {
     "name": "stdout",
     "output_type": "stream",
     "text": [
      "Enter the radius of cylinder : 6\n",
      "Enter the height of cylinder : 4\n",
      "Volume of the cylinder = 452.15999999999997\n",
      "Curved Surface Area of the cylinder = 150.72\n",
      "Total Surface Area of the cylinder = 376.79999999999995\n"
     ]
    }
   ],
   "source": [
    "def volArea(r,h):\n",
    "    vol=(3.14*r*r*h)\n",
    "    sa=(2*3.14*r*h)\n",
    "    tsa=((2*3.14*r*h)+(3.14*r*r*2))\n",
    "    print(\"Volume of the cylinder =\",vol)\n",
    "    print(\"Curved Surface Area of the cylinder =\",sa)\n",
    "    print(\"Total Surface Area of the cylinder =\",tsa)\n",
    "r=float(input(\"Enter the radius of cylinder : \"))\n",
    "h=float(input(\"Enter the height of cylinder : \"))\n",
    "volArea(r,h)"
   ]
  },
  {
   "cell_type": "code",
   "execution_count": null,
   "id": "835d7147",
   "metadata": {},
   "outputs": [],
   "source": []
  }
 ],
 "metadata": {
  "kernelspec": {
   "display_name": "Python 3 (ipykernel)",
   "language": "python",
   "name": "python3"
  },
  "language_info": {
   "codemirror_mode": {
    "name": "ipython",
    "version": 3
   },
   "file_extension": ".py",
   "mimetype": "text/x-python",
   "name": "python",
   "nbconvert_exporter": "python",
   "pygments_lexer": "ipython3",
   "version": "3.10.4"
  }
 },
 "nbformat": 4,
 "nbformat_minor": 5
}
