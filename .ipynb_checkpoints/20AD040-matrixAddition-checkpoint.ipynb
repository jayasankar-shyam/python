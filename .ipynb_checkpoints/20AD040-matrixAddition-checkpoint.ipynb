{
 "cells": [
  {
   "cell_type": "code",
   "execution_count": 1,
   "id": "07fb825f",
   "metadata": {},
   "outputs": [
    {
     "name": "stdout",
     "output_type": "stream",
     "text": [
      "First Matrix :\n",
      " [[1 2 3]\n",
      " [4 5 6]\n",
      " [7 8 9]]\n",
      "Second Matrix :\n",
      " [[7 8 9]\n",
      " [1 2 3]\n",
      " [4 5 6]]\n",
      "Sum Matrix : \n",
      " [[ 8 10 12]\n",
      " [ 5  7  9]\n",
      " [11 13 15]]\n"
     ]
    }
   ],
   "source": [
    "import numpy as mat\n",
    "mat1=mat.array([[1,2,3],[4,5,6],[7,8,9]])\n",
    "mat2=mat.array([[7,8,9],[1,2,3],[4,5,6]])\n",
    "sum=mat1+mat2\n",
    "print(\"First Matrix :\\n\",mat1)\n",
    "print(\"Second Matrix :\\n\",mat2)\n",
    "print(\"Sum Matrix : \\n\",sum)"
   ]
  },
  {
   "cell_type": "code",
   "execution_count": null,
   "id": "463d62c7",
   "metadata": {},
   "outputs": [],
   "source": []
  }
 ],
 "metadata": {
  "kernelspec": {
   "display_name": "Python 3 (ipykernel)",
   "language": "python",
   "name": "python3"
  },
  "language_info": {
   "codemirror_mode": {
    "name": "ipython",
    "version": 3
   },
   "file_extension": ".py",
   "mimetype": "text/x-python",
   "name": "python",
   "nbconvert_exporter": "python",
   "pygments_lexer": "ipython3",
   "version": "3.10.4"
  }
 },
 "nbformat": 4,
 "nbformat_minor": 5
}
