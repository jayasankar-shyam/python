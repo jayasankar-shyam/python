{
 "cells": [
  {
   "cell_type": "code",
   "execution_count": null,
   "id": "6da197ea",
   "metadata": {},
   "outputs": [],
   "source": []
  },
  {
   "cell_type": "code",
   "execution_count": 1,
   "id": "bd5f7476",
   "metadata": {},
   "outputs": [],
   "source": [
    "import cv2\n",
    "image = cv2.imread(\"image.png\")\n",
    "gray_image = cv2.cvtColor(image, cv2.COLOR_BGR2GRAY) \n",
    "inverted =255-gray_image \n",
    "blur= cv2.GaussianBlur (inverted, (21, 21), 0)\n",
    "invertedblur= 255-blur\n",
    "sketch = cv2.divide (gray_image, invertedblur, scale=256.0)\n",
    "cv2.imwrite(\"sketch_sample.png\", sketch)\n",
    "cv2.imshow(\"Image\", sketch)"
   ]
  },
  {
   "cell_type": "code",
   "execution_count": null,
   "id": "601c7780",
   "metadata": {},
   "outputs": [],
   "source": []
  },
  {
   "cell_type": "code",
   "execution_count": 4,
   "id": "7ff92648",
   "metadata": {},
   "outputs": [
    {
     "data": {
      "text/plain": [
       "True"
      ]
     },
     "execution_count": 4,
     "metadata": {},
     "output_type": "execute_result"
    }
   ],
   "source": [
    "import cv2\n",
    "pic=cv2.imread(\"pic.png\")\n",
    "gray_image = cv2.cvtColor(pic, cv2.COLOR_BGR2GRAY) \n",
    "blur= cv2.GaussianBlur (255-gray_image, (21, 21), 0)\n",
    "sketch = cv2.divide (gray_image, 255-blur, scale=256.0)\n",
    "cv2.imwrite(\"pic_sketch.png\", sketch)"
   ]
  },
  {
   "cell_type": "code",
   "execution_count": 5,
   "id": "9bc1ead3",
   "metadata": {},
   "outputs": [
    {
     "data": {
      "text/plain": [
       "-1"
      ]
     },
     "execution_count": 5,
     "metadata": {},
     "output_type": "execute_result"
    }
   ],
   "source": [
    "cv2.imshow(\"Image\", sketch)\n",
    "cv2.waitKey(0); cv2.destroyAllWindows(); cv2.waitKey(1)"
   ]
  },
  {
   "cell_type": "code",
   "execution_count": 3,
   "id": "7ec32af6",
   "metadata": {},
   "outputs": [
    {
     "data": {
      "text/plain": [
       "array([[230, 246, 253, ..., 255, 255, 227],\n",
       "       [245, 249, 253, ..., 255, 253, 246],\n",
       "       [255, 250, 254, ..., 255, 255, 255],\n",
       "       ...,\n",
       "       [243, 255, 255, ..., 255, 254, 254],\n",
       "       [255, 255, 216, ..., 253, 250, 247],\n",
       "       [255, 202, 175, ..., 255, 255, 227]], dtype=uint8)"
      ]
     },
     "execution_count": 3,
     "metadata": {},
     "output_type": "execute_result"
    }
   ],
   "source": [
    "sketch"
   ]
  },
  {
   "cell_type": "code",
   "execution_count": null,
   "id": "5051b8a0",
   "metadata": {},
   "outputs": [],
   "source": []
  }
 ],
 "metadata": {
  "kernelspec": {
   "display_name": "Python 3 (ipykernel)",
   "language": "python",
   "name": "python3"
  },
  "language_info": {
   "codemirror_mode": {
    "name": "ipython",
    "version": 3
   },
   "file_extension": ".py",
   "mimetype": "text/x-python",
   "name": "python",
   "nbconvert_exporter": "python",
   "pygments_lexer": "ipython3",
   "version": "3.9.13"
  }
 },
 "nbformat": 4,
 "nbformat_minor": 5
}
