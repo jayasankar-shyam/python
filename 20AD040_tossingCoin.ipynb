{
 "cells": [
  {
   "cell_type": "code",
   "execution_count": 50,
   "metadata": {},
   "outputs": [
    {
     "name": "stdout",
     "output_type": "stream",
     "text": [
      "Enter the number of times to toss the coin : 10\n",
      "Occured events :  ['Heads', 'Tails', 'Tails', 'Tails', 'Heads', 'Heads', 'Tails', 'Tails', 'Tails', 'Heads']\n",
      "Heads has occured 4 times\n",
      "Probability of occuring heads =0.4\n"
     ]
    }
   ],
   "source": [
    "import random as rn\n",
    "def toss(lim):\n",
    "    events=[]\n",
    "    num_heads=0\n",
    "    for i in range(lim):\n",
    "        value=rn.randint(0,1)#0-Tails,1-Heads\n",
    "        if value==1:\n",
    "            num_heads+=1\n",
    "            events.append(\"Heads\")\n",
    "        else:\n",
    "            events.append(\"Tails\")\n",
    "    probability=num_heads/lim\n",
    "    print(\"Occured events : \",events)\n",
    "    return probability,num_heads\n",
    "\n",
    "limit=int(input(\"Enter the number of times to toss the coin : \"))\n",
    "prob,heads=toss(limit)\n",
    "print(\"Heads has occured {} times\\nProbability of occuring heads ={}\".format(heads,prob))"
   ]
  },
  {
   "cell_type": "code",
   "execution_count": 42,
   "metadata": {},
   "outputs": [
    {
     "name": "stdout",
     "output_type": "stream",
     "text": [
      "Enter the number of times to toss the coin : 10\n",
      "Occured events :  Heads,Heads,Heads,Tails,Tails,Heads,Heads,Tails,Tails,Heads,\n",
      "Heads has occured 6 times\n",
      "Probability of occuring heads =0.6\n"
     ]
    }
   ],
   "source": [
    "import random as rn\n",
    "def toss(lim):\n",
    "    events=[\"Heads\",\"Tails\"]\n",
    "    num_heads=0\n",
    "    print(\"Occured events : \",end=\" \")\n",
    "    for i in range(lim):\n",
    "        value=rn.randint(0,1)#0-Tails,1-Heads\n",
    "        if value==1:\n",
    "            num_heads+=1\n",
    "            print(events[0],end=\",\")\n",
    "        else:\n",
    "            print(events[1],end=\",\")\n",
    "        probability=num_heads/lim\n",
    "    return probability,num_heads\n",
    "limit=int(input(\"Enter the number of times to toss the coin : \"))\n",
    "prob,heads=toss(limit)\n",
    "print(\"\\nHeads has occured {} times\\nProbability of occuring heads ={}\".format(heads,prob))"
   ]
  },
  {
   "cell_type": "code",
   "execution_count": null,
   "metadata": {},
   "outputs": [],
   "source": []
  }
 ],
 "metadata": {
  "kernelspec": {
   "display_name": "Python 3",
   "language": "python",
   "name": "python3"
  },
  "language_info": {
   "codemirror_mode": {
    "name": "ipython",
    "version": 3
   },
   "file_extension": ".py",
   "mimetype": "text/x-python",
   "name": "python",
   "nbconvert_exporter": "python",
   "pygments_lexer": "ipython3",
   "version": "3.6.9"
  }
 },
 "nbformat": 4,
 "nbformat_minor": 2
}
