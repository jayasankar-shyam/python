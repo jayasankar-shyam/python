{
 "cells": [
  {
   "cell_type": "code",
   "execution_count": 8,
   "id": "bc5bbb48",
   "metadata": {},
   "outputs": [
    {
     "name": "stdout",
     "output_type": "stream",
     "text": [
      "File contents: [1, 2, 3, 4, 5, 6, 7, 8, 9, 10]\n",
      "Prime numbers: 2 3 5 7 "
     ]
    }
   ],
   "source": [
    "file = open('nums.txt', 'r')\n",
    "contents = []\n",
    "for i in file:\n",
    "    contents.append(int(i))\n",
    "print(\"File contents:\",contents)\n",
    "print(\"Prime numbers: \", end=\"\")\n",
    "for j in contents:\n",
    "    if j == 0 or j == 1:\n",
    "        continue\n",
    "    for i in range(2, j // 2 + 1):\n",
    "        if j % i == 0:\n",
    "            break\n",
    "    else:\n",
    "        print(j, end = \" \")\n",
    "file.close()"
   ]
  }
 ],
 "metadata": {
  "kernelspec": {
   "display_name": "Python 3 (ipykernel)",
   "language": "python",
   "name": "python3"
  },
  "language_info": {
   "codemirror_mode": {
    "name": "ipython",
    "version": 3
   },
   "file_extension": ".py",
   "mimetype": "text/x-python",
   "name": "python",
   "nbconvert_exporter": "python",
   "pygments_lexer": "ipython3",
   "version": "3.10.4"
  }
 },
 "nbformat": 4,
 "nbformat_minor": 5
}
