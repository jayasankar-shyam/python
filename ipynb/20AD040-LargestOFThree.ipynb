{
 "cells": [
  {
   "cell_type": "code",
   "execution_count": 2,
   "id": "5a9ad2a2",
   "metadata": {},
   "outputs": [
    {
     "name": "stdout",
     "output_type": "stream",
     "text": [
      "Enter the first number : 3\n",
      "Enter the second number : 9\n",
      "Enter the third number : 2\n",
      "9 is largest\n"
     ]
    }
   ],
   "source": [
    "a=int(input(\"Enter the first number : \"))\n",
    "b=int(input(\"Enter the second number : \"))\n",
    "c=int(input(\"Enter the third number : \"))\n",
    "if(a>=b and a>=c):\n",
    "    print(a,\"is largest\")\n",
    "elif(b>=a and b>=c):\n",
    "    print(b,\"is largest\")\n",
    "else:\n",
    "    print(c,\"is the largest\")"
   ]
  },
  {
   "cell_type": "code",
   "execution_count": null,
   "id": "94598cf4",
   "metadata": {},
   "outputs": [],
   "source": []
  }
 ],
 "metadata": {
  "kernelspec": {
   "display_name": "Python 3 (ipykernel)",
   "language": "python",
   "name": "python3"
  },
  "language_info": {
   "codemirror_mode": {
    "name": "ipython",
    "version": 3
   },
   "file_extension": ".py",
   "mimetype": "text/x-python",
   "name": "python",
   "nbconvert_exporter": "python",
   "pygments_lexer": "ipython3",
   "version": "3.10.4"
  }
 },
 "nbformat": 4,
 "nbformat_minor": 5
}
