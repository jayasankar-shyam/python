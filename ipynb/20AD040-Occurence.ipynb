{
 "cells": [
  {
   "cell_type": "code",
   "execution_count": 1,
   "id": "c2374eee",
   "metadata": {},
   "outputs": [
    {
     "name": "stdout",
     "output_type": "stream",
     "text": [
      "Enter the number of elements5\n",
      "Enter element 1  : 5\n",
      "Enter element 2  : 3\n",
      "Enter element 3  : 6\n",
      "Enter element 4  : 3\n",
      "Enter element 5  : 2\n",
      "[5, 3, 6, 3, 2]\n",
      "Enter element to be removed : 3\n",
      "[5, 6, 2]\n"
     ]
    }
   ],
   "source": [
    "n=int(input(\"Enter the number of elements\"))\n",
    "list=[]\n",
    "for i in range(0,n):\n",
    "    print(\"Enter element\",i+1,\" :\",end=\" \")\n",
    "    list.append(int(input()))\n",
    "print(list)\n",
    "x=int(input(\"Enter element to be removed : \"))\n",
    "while(x in list):\n",
    "    list.remove(x)\n",
    "print(list)"
   ]
  },
  {
   "cell_type": "code",
   "execution_count": null,
   "id": "dbc84e33",
   "metadata": {},
   "outputs": [],
   "source": []
  }
 ],
 "metadata": {
  "kernelspec": {
   "display_name": "Python 3 (ipykernel)",
   "language": "python",
   "name": "python3"
  },
  "language_info": {
   "codemirror_mode": {
    "name": "ipython",
    "version": 3
   },
   "file_extension": ".py",
   "mimetype": "text/x-python",
   "name": "python",
   "nbconvert_exporter": "python",
   "pygments_lexer": "ipython3",
   "version": "3.10.4"
  }
 },
 "nbformat": 4,
 "nbformat_minor": 5
}
