{
 "cells": [
  {
   "cell_type": "code",
   "execution_count": 9,
   "id": "37e84cd7",
   "metadata": {},
   "outputs": [
    {
     "name": "stdout",
     "output_type": "stream",
     "text": [
      "Enter the value of lambda: 4\n",
      "Enter the value of x: 5\n",
      "The probability is : 0.1563 \n"
     ]
    }
   ],
   "source": [
    "l=int(input(\"Enter the value of lambda: \"))\n",
    "x=int(input(\"Enter the value of x: \"))\n",
    "e=2.718281\n",
    "fact=1\n",
    "for i in range(1,x+1):\n",
    "    fact*=i\n",
    "p=((l**x)*(e**(-l)))/fact\n",
    "print(\"The probability is : {:.4f} \".format(p))"
   ]
  },
  {
   "cell_type": "code",
   "execution_count": 5,
   "id": "7ce2d373",
   "metadata": {},
   "outputs": [
    {
     "name": "stdout",
     "output_type": "stream",
     "text": [
      "Enter the number to find the factorial : 3\n",
      "The factorial of 3 is : 6\n"
     ]
    }
   ],
   "source": [
    "n=int(input(\"Enter the number to find the factorial : \"))\n",
    "fact=1\n",
    "if n<0:\n",
    "    print(\"The entered number is a negative number.Try again.\")\n",
    "else:\n",
    "    for i in range(1,n+1):\n",
    "        fact*=i\n",
    "    print(\"The factorial of {} is : {}\".format(n,fact))"
   ]
  },
  {
   "cell_type": "code",
   "execution_count": null,
   "id": "a4258853",
   "metadata": {},
   "outputs": [],
   "source": []
  }
 ],
 "metadata": {
  "kernelspec": {
   "display_name": "Python 3 (ipykernel)",
   "language": "python",
   "name": "python3"
  },
  "language_info": {
   "codemirror_mode": {
    "name": "ipython",
    "version": 3
   },
   "file_extension": ".py",
   "mimetype": "text/x-python",
   "name": "python",
   "nbconvert_exporter": "python",
   "pygments_lexer": "ipython3",
   "version": "3.10.4"
  }
 },
 "nbformat": 4,
 "nbformat_minor": 5
}
