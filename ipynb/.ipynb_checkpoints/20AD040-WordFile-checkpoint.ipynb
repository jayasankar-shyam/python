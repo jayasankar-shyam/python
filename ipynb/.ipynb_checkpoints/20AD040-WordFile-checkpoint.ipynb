{
 "cells": [
  {
   "cell_type": "code",
   "execution_count": 9,
   "id": "80f1b98e",
   "metadata": {},
   "outputs": [
    {
     "name": "stdout",
     "output_type": "stream",
     "text": [
      "Contents of the file :  I love to code. I love Programming.\n",
      "Number of sentences: 2\n",
      "Number of words: 7\n",
      "Number of lowercase charactes: 24\n",
      "Number of uppercase characters: 3\n",
      "Number of special characters: 2\n"
     ]
    }
   ],
   "source": [
    "file=open('word.txt','r')\n",
    "contents=file.read()\n",
    "words=contents.split()\n",
    "sentences=contents.split(\".\")\n",
    "lower=upper=digits=special=0\n",
    "for ch in contents:\n",
    "    if(ch.islower()):\n",
    "        lower+=1\n",
    "    elif(ch.isupper()):\n",
    "        upper+=1\n",
    "    elif(ch.isdigit()):\n",
    "        digits+=1\n",
    "    elif(ch!=\" \"):\n",
    "        special+=1\n",
    "print(\"Contents of the file : \",contents.strip())\n",
    "print(\"Number of sentences:\",len(sentences)-1)\n",
    "print(\"Number of words:\",len(words))\n",
    "print(\"Number of lowercase charactes:\",lower)\n",
    "print(\"Number of uppercase characters:\",upper)\n",
    "print(\"Number of special characters:\",special-1)"
   ]
  },
  {
   "cell_type": "code",
   "execution_count": 7,
   "id": "af1f7805",
   "metadata": {},
   "outputs": [
    {
     "name": "stdout",
     "output_type": "stream",
     "text": [
      "File contents: [1, 2, 3, 4, 5, 6, 7, 8, 9, 10, 11, 12, 13, 14, 15, 16, 17, 18, 19, 20]\n",
      "prime numbers: 2 3 5 7 11 13 17 19 "
     ]
    }
   ],
   "source": [
    "file = open('nums.txt', 'r')\n",
    "lst = []\n",
    "for i in file:\n",
    "    lst.append(int(i))\n",
    "print(\"File contents:\",lst)\n",
    "print(\"Prime numbers: \", end=\"\")\n",
    "for j in lst:\n",
    "    if j == 0 or j == 1:\n",
    "        continue\n",
    "    for i in range(2, j // 2 + 1):\n",
    "        if j % i == 0:\n",
    "            break\n",
    "    else:\n",
    "        print(j, end = \" \")\n",
    "file.close()"
   ]
  }
 ],
 "metadata": {
  "kernelspec": {
   "display_name": "Python 3 (ipykernel)",
   "language": "python",
   "name": "python3"
  },
  "language_info": {
   "codemirror_mode": {
    "name": "ipython",
    "version": 3
   },
   "file_extension": ".py",
   "mimetype": "text/x-python",
   "name": "python",
   "nbconvert_exporter": "python",
   "pygments_lexer": "ipython3",
   "version": "3.10.4"
  }
 },
 "nbformat": 4,
 "nbformat_minor": 5
}
