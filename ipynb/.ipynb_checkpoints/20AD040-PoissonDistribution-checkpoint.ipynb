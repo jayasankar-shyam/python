{
 "cells": [
  {
   "cell_type": "code",
   "execution_count": 7,
   "id": "6c77749f",
   "metadata": {},
   "outputs": [
    {
     "name": "stdout",
     "output_type": "stream",
     "text": [
      "Enter the value of lambda: 4\n",
      "Enter the value of x: 5\n",
      "The probability is : 0.1563 \n"
     ]
    }
   ],
   "source": [
    "l=int(input(\"Enter the value of lambda: \"))\n",
    "x=int(input(\"Enter the value of x: \"))\n",
    "e=2.718281\n",
    "fact=1\n",
    "for i in range(1,x+1):\n",
    "    fact*=i\n",
    "p=((l**x)*(e**(-l)))/fact\n",
    "print(\"The probability is : {:.4f} \".format(p))"
   ]
  }
 ],
 "metadata": {
  "kernelspec": {
   "display_name": "Python 3 (ipykernel)",
   "language": "python",
   "name": "python3"
  },
  "language_info": {
   "codemirror_mode": {
    "name": "ipython",
    "version": 3
   },
   "file_extension": ".py",
   "mimetype": "text/x-python",
   "name": "python",
   "nbconvert_exporter": "python",
   "pygments_lexer": "ipython3",
   "version": "3.10.4"
  }
 },
 "nbformat": 4,
 "nbformat_minor": 5
}
