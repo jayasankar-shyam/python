{
 "cells": [
  {
   "cell_type": "code",
   "execution_count": 1,
   "id": "1830ebfb",
   "metadata": {},
   "outputs": [
    {
     "name": "stdout",
     "output_type": "stream",
     "text": [
      "Books : {'book1': 100, 'book2': 150, 'book3': 200}\n",
      "Enter the book to add: book4\n",
      "Enter the number of stocks: 250\n",
      "Updated Books : {'book1': 100, 'book2': 150, 'book3': 200, 'book4': 250}\n",
      "Enter the book to delete : book2\n",
      "Newly Updated Books : {'book1': 100, 'book3': 200, 'book4': 250}\n"
     ]
    }
   ],
   "source": [
    "books={'book1':100,'book2':150,'book3':200}\n",
    "print(\"Books :\",books)\n",
    "newbook=input(\"Enter the book to add: \")\n",
    "n=int(input(\"Enter the number of stocks: \"))\n",
    "books.update({newbook:n})\n",
    "print(\"Updated Books :\",books)\n",
    "x=input(\"Enter the book to delete : \")\n",
    "element=books.pop(x)\n",
    "print(\"Newly Updated Books :\",books)"
   ]
  },
  {
   "cell_type": "code",
   "execution_count": null,
   "id": "4d6c7316",
   "metadata": {},
   "outputs": [],
   "source": []
  }
 ],
 "metadata": {
  "kernelspec": {
   "display_name": "Python 3 (ipykernel)",
   "language": "python",
   "name": "python3"
  },
  "language_info": {
   "codemirror_mode": {
    "name": "ipython",
    "version": 3
   },
   "file_extension": ".py",
   "mimetype": "text/x-python",
   "name": "python",
   "nbconvert_exporter": "python",
   "pygments_lexer": "ipython3",
   "version": "3.10.4"
  }
 },
 "nbformat": 4,
 "nbformat_minor": 5
}
