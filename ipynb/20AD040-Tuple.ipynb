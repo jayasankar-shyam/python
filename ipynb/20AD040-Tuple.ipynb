{
 "cells": [
  {
   "cell_type": "code",
   "execution_count": 8,
   "id": "c11e2415",
   "metadata": {},
   "outputs": [
    {
     "name": "stdout",
     "output_type": "stream",
     "text": [
      "Original tuple :  (1, 2, 3, 4, 5, 6, 7, 8, 9)\n",
      "Even tuple :  (2, 4, 6, 8)\n",
      "Odd tuple :  (1, 3, 5, 7, 9)\n"
     ]
    }
   ],
   "source": [
    "tup=(1,2,3,4,5,6,7,8,9)\n",
    "e_tup=()\n",
    "o_tup=()\n",
    "for i in range (0,len(tup)):\n",
    "    if(tup[i]%2==0):\n",
    "        e_tup+=(tup[i],)\n",
    "    else:\n",
    "         o_tup+=(tup[i],)\n",
    "print(\"Original tuple : \",tup)\n",
    "print(\"Even tuple : \",e_tup)\n",
    "print(\"Odd tuple : \",o_tup)"
   ]
  },
  {
   "cell_type": "code",
   "execution_count": null,
   "id": "71ff6579",
   "metadata": {},
   "outputs": [],
   "source": []
  }
 ],
 "metadata": {
  "kernelspec": {
   "display_name": "Python 3 (ipykernel)",
   "language": "python",
   "name": "python3"
  },
  "language_info": {
   "codemirror_mode": {
    "name": "ipython",
    "version": 3
   },
   "file_extension": ".py",
   "mimetype": "text/x-python",
   "name": "python",
   "nbconvert_exporter": "python",
   "pygments_lexer": "ipython3",
   "version": "3.10.4"
  }
 },
 "nbformat": 4,
 "nbformat_minor": 5
}
