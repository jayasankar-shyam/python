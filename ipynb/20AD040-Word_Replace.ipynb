{
 "cells": [
  {
   "cell_type": "code",
   "execution_count": 1,
   "id": "150b15e3",
   "metadata": {},
   "outputs": [
    {
     "name": "stdout",
     "output_type": "stream",
     "text": [
      "Enter the sentence : I love to play\n",
      "Enter word to be replaced : play\n",
      "Enter the new word : eat\n",
      " I love to eat\n"
     ]
    }
   ],
   "source": [
    "a=input(\"Enter the sentence : \")\n",
    "old=input(\"Enter word to be replaced : \")\n",
    "new=input(\"Enter the new word : \")\n",
    "words=a.split()\n",
    "b=\"\"\n",
    "for i in words:\n",
    "    if(i==old):\n",
    "        b=b+\" \"+new\n",
    "    else:\n",
    "        b=b+\" \"+i\n",
    "print(b)"
   ]
  },
  {
   "cell_type": "code",
   "execution_count": null,
   "id": "f6ab7fb0",
   "metadata": {},
   "outputs": [],
   "source": []
  }
 ],
 "metadata": {
  "kernelspec": {
   "display_name": "Python 3 (ipykernel)",
   "language": "python",
   "name": "python3"
  },
  "language_info": {
   "codemirror_mode": {
    "name": "ipython",
    "version": 3
   },
   "file_extension": ".py",
   "mimetype": "text/x-python",
   "name": "python",
   "nbconvert_exporter": "python",
   "pygments_lexer": "ipython3",
   "version": "3.10.4"
  }
 },
 "nbformat": 4,
 "nbformat_minor": 5
}
