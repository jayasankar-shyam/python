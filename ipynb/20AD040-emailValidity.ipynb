{
 "cells": [
  {
   "cell_type": "code",
   "execution_count": null,
   "id": "3c2f9448",
   "metadata": {},
   "outputs": [],
   "source": [
    "email=input(\"Enter the email to be validated : \")\n",
    "domains=[\"gmail.com\",\"yahoo.com\",\"reddit.com\",\"sjcetpalai.ac.in\",\"ieee.org\"]\n",
    "words=email.split(\"@\")\n",
    "for i in domains:\n",
    "    if(i==words[1]):\n",
    "        print(\"The email is valid\")\n",
    "        flag=1\n",
    "        break\n",
    "    else:\n",
    "        flag=0\n",
    "if(flag==0):\n",
    "    print(\"The email is invalid\")"
   ]
  }
 ],
 "metadata": {
  "kernelspec": {
   "display_name": "Python 3 (ipykernel)",
   "language": "python",
   "name": "python3"
  },
  "language_info": {
   "codemirror_mode": {
    "name": "ipython",
    "version": 3
   },
   "file_extension": ".py",
   "mimetype": "text/x-python",
   "name": "python",
   "nbconvert_exporter": "python",
   "pygments_lexer": "ipython3",
   "version": "3.10.4"
  }
 },
 "nbformat": 4,
 "nbformat_minor": 5
}
