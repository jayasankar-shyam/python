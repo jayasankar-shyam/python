{
 "cells": [
  {
   "cell_type": "code",
   "execution_count": 11,
   "metadata": {},
   "outputs": [
    {
     "name": "stdout",
     "output_type": "stream",
     "text": [
      "The value of chi square is 7.32\n"
     ]
    }
   ],
   "source": [
    "#The program to compute chi square value\n",
    "observedValues=[50,58,47,48,67]\n",
    "expectedValue=50\n",
    "sum=0\n",
    "for observation in observedValues:\n",
    "    chi=((observation-expectedValue)**2)/expectedValue\n",
    "    sum+=chi\n",
    "print(\"The value of chi square is\",sum)"
   ]
  },
  {
   "cell_type": "code",
   "execution_count": 13,
   "metadata": {},
   "outputs": [
    {
     "name": "stdout",
     "output_type": "stream",
     "text": [
      "Power_divergenceResult(statistic=7.3200000000000003, pvalue=0.11991350930483732)\n"
     ]
    }
   ],
   "source": [
    "from scipy import stats\n",
    "result=stats.chisquare(observedValues,expectedValue)\n",
    "print(result)"
   ]
  },
  {
   "cell_type": "code",
   "execution_count": 158,
   "metadata": {},
   "outputs": [
    {
     "name": "stdout",
     "output_type": "stream",
     "text": [
      "Expected male values :  [49.11392405063291, 48.131645569620254, 48.62278481012658, 48.131645569620254]\n",
      "Expected female values :  [50.8860759493671, 49.86835443037975, 50.377215189873425, 49.86835443037975]\n",
      "The value of chi square is 8.006066246262538\n",
      "Power_divergenceResult(statistic=8.006066246262538, pvalue=0.33205929046123961)\n"
     ]
    }
   ],
   "source": [
    "from scipy import stats\n",
    "f_values=[60,54,46,41]\n",
    "m_values=[40,44,53,57]\n",
    "r_total=[201,194]\n",
    "c_total=[100,98,99,98]\n",
    "total=395\n",
    "f_mul=r_total[0]/total\n",
    "m_mul=r_total[1]/total\n",
    "full=f_values+m_values\n",
    "f_exp=[]\n",
    "m_exp=[]\n",
    "for obs in c_total:\n",
    "    f_value=obs*f_mul\n",
    "    f_exp.append(f_value)\n",
    "    m_value=obs*m_mul\n",
    "    m_exp.append(m_value)\n",
    "t_exp=f_exp+m_exp\n",
    "print(\"Expected male values : \",m_exp)\n",
    "print(\"Expected female values : \",f_exp)\n",
    "sum=0\n",
    "for i in range(len(full)):\n",
    "    chi=((full[i]-t_exp[i])**2)/t_exp[i]\n",
    "    sum+=chi\n",
    "print(\"The value of chi square is\",sum)\n",
    "result=stats.chisquare(full,t_exp)    \n",
    "print(result)"
   ]
  },
  {
   "cell_type": "code",
   "execution_count": 157,
   "metadata": {},
   "outputs": [
    {
     "name": "stdout",
     "output_type": "stream",
     "text": [
      "[[ 1.          0.72131472]\n",
      " [ 0.72131472  1.        ]]\n"
     ]
    }
   ],
   "source": [
    "import scipy as sc\n",
    "import numpy as np\n",
    "import scipy.stats as stats\n",
    "hand=[17,15,19,17,21]\n",
    "height=[150,154,169,172,175]\n",
    "cc=np.corrcoef(hand,height)\n",
    "print(cc)"
   ]
  },
  {
   "cell_type": "code",
   "execution_count": 159,
   "metadata": {},
   "outputs": [
    {
     "data": {
      "text/plain": [
       "(0.72131471804534497, 0.16902873603821766)"
      ]
     },
     "execution_count": 159,
     "metadata": {},
     "output_type": "execute_result"
    }
   ],
   "source": [
    "from scipy.stats.stats import pearsonr\n",
    "pearsonr(hand,height)"
   ]
  },
  {
   "cell_type": "code",
   "execution_count": null,
   "metadata": {},
   "outputs": [],
   "source": []
  }
 ],
 "metadata": {
  "kernelspec": {
   "display_name": "Python 3",
   "language": "python",
   "name": "python3"
  },
  "language_info": {
   "codemirror_mode": {
    "name": "ipython",
    "version": 3
   },
   "file_extension": ".py",
   "mimetype": "text/x-python",
   "name": "python",
   "nbconvert_exporter": "python",
   "pygments_lexer": "ipython3",
   "version": "3.6.9"
  }
 },
 "nbformat": 4,
 "nbformat_minor": 2
}
