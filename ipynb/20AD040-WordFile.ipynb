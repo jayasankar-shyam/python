{
 "cells": [
  {
   "cell_type": "code",
   "execution_count": 13,
   "id": "0e15859c",
   "metadata": {},
   "outputs": [
    {
     "name": "stdout",
     "output_type": "stream",
     "text": [
      "Contents of the file :  I love to code. I love Programming.\n",
      "Number of sentences: 2\n",
      "Number of words: 7\n",
      "Number of lowercase charactes: 24\n",
      "Number of uppercase characters: 3\n",
      "Number of special characters: 2\n"
     ]
    }
   ],
   "source": [
    "file=open('word.txt','r')\n",
    "contents=file.read()\n",
    "words=contents.split()\n",
    "sentences=contents.split(\".\")\n",
    "lower=upper=digits=special=0\n",
    "for ch in contents:\n",
    "    if(ch.islower()):\n",
    "        lower+=1\n",
    "    elif(ch.isupper()):\n",
    "        upper+=1\n",
    "    elif(ch.isdigit()):\n",
    "        digits+=1\n",
    "    elif(ch!=\" \"):\n",
    "        special+=1\n",
    "print(\"Contents of the file : \",contents.strip())\n",
    "print(\"Number of sentences:\",len(sentences)-1)\n",
    "print(\"Number of words:\",len(words))\n",
    "print(\"Number of lowercase charactes:\",lower)\n",
    "print(\"Number of uppercase characters:\",upper)\n",
    "print(\"Number of special characters:\",special-1)\n",
    "file.close()"
   ]
  }
 ],
 "metadata": {
  "kernelspec": {
   "display_name": "Python 3 (ipykernel)",
   "language": "python",
   "name": "python3"
  },
  "language_info": {
   "codemirror_mode": {
    "name": "ipython",
    "version": 3
   },
   "file_extension": ".py",
   "mimetype": "text/x-python",
   "name": "python",
   "nbconvert_exporter": "python",
   "pygments_lexer": "ipython3",
   "version": "3.10.4"
  }
 },
 "nbformat": 4,
 "nbformat_minor": 5
}
