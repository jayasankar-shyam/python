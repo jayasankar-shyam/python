{
 "cells": [
  {
   "cell_type": "markdown",
   "metadata": {},
   "source": [
    "# Largest of 3 numbers"
   ]
  },
  {
   "cell_type": "code",
   "execution_count": 86,
   "metadata": {},
   "outputs": [
    {
     "name": "stdout",
     "output_type": "stream",
     "text": [
      "Enter 3 numbers : 80 90 10\n",
      "The largest number is 90\n"
     ]
    }
   ],
   "source": [
    "a,b,c=map(int,input(\"Enter 3 numbers : \").split())\n",
    "if (a>=b and a>=c):\n",
    "    l=a\n",
    "elif(b>=a and b>=c):\n",
    "    l=b\n",
    "else:\n",
    "    l=c\n",
    "print(\"The largest number is\",l)    "
   ]
  },
  {
   "cell_type": "markdown",
   "metadata": {},
   "source": [
    "# Multiplication Table"
   ]
  },
  {
   "cell_type": "code",
   "execution_count": 14,
   "metadata": {},
   "outputs": [
    {
     "name": "stdout",
     "output_type": "stream",
     "text": [
      "Enter the number to find the table : 5\n",
      "1*5=5\n",
      "2*5=10\n",
      "3*5=15\n",
      "4*5=20\n",
      "5*5=25\n",
      "6*5=30\n",
      "7*5=35\n",
      "8*5=40\n",
      "9*5=45\n",
      "10*5=50\n"
     ]
    }
   ],
   "source": [
    "n=int(input(\"Enter the number to find the table : \"))\n",
    "for i in range (1,11):\n",
    "    print(f\"{i}*{n}={i*n}\")"
   ]
  },
  {
   "cell_type": "markdown",
   "metadata": {},
   "source": [
    "# Volume and Surface Area of a Cylinder"
   ]
  },
  {
   "cell_type": "code",
   "execution_count": 33,
   "metadata": {},
   "outputs": [
    {
     "name": "stdout",
     "output_type": "stream",
     "text": [
      "Enter the radius of the cylinder : 5\n",
      "Enter the height of the cylinder : 6\n",
      "Volume =471.24\n",
      "Surface Area=188.50\n",
      "Total Surface area=345.58\n"
     ]
    }
   ],
   "source": [
    "import numpy\n",
    "def VolArea(r,h):\n",
    "    sa=(2*pi*r*h)\n",
    "    vol=(pi*r*r*h)\n",
    "    tsa=sa+(2*pi*r*r)\n",
    "    return sa,tsa,vol\n",
    "r=int(input(\"Enter the radius of the cylinder : \"))\n",
    "h=int(input(\"Enter the height of the cylinder : \"))\n",
    "s,t,v=VolArea(r,h)\n",
    "print(f\"Volume ={v:.2f}\\nSurface Area={s:.2f}\\nTotal Surface area={t:.2f}\")\n"
   ]
  },
  {
   "cell_type": "markdown",
   "metadata": {},
   "source": [
    "# Replacing a word"
   ]
  },
  {
   "cell_type": "code",
   "execution_count": 47,
   "metadata": {},
   "outputs": [
    {
     "name": "stdout",
     "output_type": "stream",
     "text": [
      "Enter a sentence : I love to play football\n",
      "Enter the word to replace : play\n",
      "Enter the new word : watch\n",
      " I love to watch football\n"
     ]
    }
   ],
   "source": [
    "string=input(\"Enter a sentence : \")\n",
    "old=input(\"Enter the word to replace : \")\n",
    "new=input(\"Enter the new word : \")\n",
    "#string.replace(old,new)\n",
    "word=string.split()\n",
    "newStr=\"\"\n",
    "for i in word:\n",
    "    if old==i:\n",
    "        newStr=newStr+\" \"+new\n",
    "    else:\n",
    "        newStr=newStr+\" \"+i\n",
    "print(newStr)"
   ]
  },
  {
   "cell_type": "markdown",
   "metadata": {},
   "source": [
    "# Validity of an Email"
   ]
  },
  {
   "cell_type": "code",
   "execution_count": 76,
   "metadata": {},
   "outputs": [
    {
     "name": "stdout",
     "output_type": "stream",
     "text": [
      "Enter an emaildtydysdt@ghgfh4.hgg\n",
      "The entered mail id is not valid\n"
     ]
    }
   ],
   "source": [
    "valid=True\n",
    "import string as st\n",
    "low=st.ascii_lowercase\n",
    "whole=st.ascii_letters+\"_.-\"+\"1234567890\"\n",
    "\n",
    "email=input(\"Enter an email\")\n",
    "parts=email.split(\"@\")\n",
    "userid=parts[0]\n",
    "domain=parts[1]\n",
    "\n",
    "for i in userid:\n",
    "    if i not in whole:\n",
    "        valid=False\n",
    "        break\n",
    "dom=domain.split(\".\")\n",
    "for i in dom[0]:\n",
    "    if i not in low:\n",
    "        valid=False\n",
    "        break\n",
    "if len(dom[1])>2:\n",
    "    for i in dom[1]:\n",
    "        if i not in low:\n",
    "            valid=False\n",
    "            break\n",
    "else:\n",
    "    valid=False\n",
    "if valid:\n",
    "    print(\"The entered mail id is valid\")\n",
    "else:\n",
    "    print(\"The entered mail id is not valid\")"
   ]
  },
  {
   "cell_type": "markdown",
   "metadata": {},
   "source": [
    "# Remove the occurence of a number"
   ]
  },
  {
   "cell_type": "code",
   "execution_count": 93,
   "metadata": {},
   "outputs": [
    {
     "name": "stdout",
     "output_type": "stream",
     "text": [
      "Enter the number of elements : 5\n",
      "Enter the element 1 : 4\n",
      "Enter the element 2 : 4\n",
      "Enter the element 3 : 4\n",
      "Enter the element 4 : 3\n",
      "Enter the element 5 : 2\n",
      "Enter the element to be removed : 4\n",
      "[3, 2]\n"
     ]
    }
   ],
   "source": [
    "n=int(input(\"Enter the number of elements : \"))\n",
    "elements=[]\n",
    "for i in range(n):\n",
    "    elements.append(int(input(f\"Enter the element {i+1} : \")))\n",
    "x=int(input(\"Enter the element to be removed : \"))\n",
    "while(x in elements):\n",
    "    elements.remove(x)\n",
    "print(elements)"
   ]
  },
  {
   "cell_type": "markdown",
   "metadata": {},
   "source": [
    "# Matrix Addition"
   ]
  },
  {
   "cell_type": "code",
   "execution_count": 102,
   "metadata": {},
   "outputs": [
    {
     "name": "stdout",
     "output_type": "stream",
     "text": [
      "First Matrix : \n",
      "[[1 2 3]\n",
      " [4 5 6]\n",
      " [7 8 9]]\n",
      "Second Matrix : \n",
      "[[1 2 3]\n",
      " [4 5 6]\n",
      " [7 8 9]]\n",
      "Sum:\n",
      "[[ 2  4  6]\n",
      " [ 8 10 12]\n",
      " [14 16 18]]\n"
     ]
    }
   ],
   "source": [
    "import numpy as np\n",
    "mat1=np.array([[1,2,3],[4,5,6],[7,8,9]])\n",
    "mat2=np.array([[1,2,3],[4,5,6],[7,8,9]])\n",
    "print(f\"First Matrix : \\n{mat1}\\nSecond Matrix : \\n{mat2}\\nSum:\\n{mat1+mat2}\")        "
   ]
  },
  {
   "cell_type": "code",
   "execution_count": 23,
   "metadata": {},
   "outputs": [
    {
     "name": "stdout",
     "output_type": "stream",
     "text": [
      "Enter the number of rows and columns2 2\n",
      "Martix 1\n",
      "\n",
      "1\n",
      "2\n",
      "3\n",
      "4\n",
      "Martix 2\n",
      "\n",
      "7\n",
      "8\n",
      "9\n",
      "10\n",
      "Sum 2\n",
      "[[ 8 10]\n",
      " [12 14]]\n"
     ]
    }
   ],
   "source": [
    "import numpy as np\n",
    "r,c=map(int,input(\"Enter the number of rows and columns\").split())\n",
    "mat1=[]\n",
    "mat2=[]\n",
    "print(\"Martix 1\\n\")\n",
    "for i in range(r):\n",
    "    row=[]\n",
    "    for j in range(c):\n",
    "        row.append(int(input()))\n",
    "    mat1.append(row)\n",
    "print(\"Martix 2\\n\")\n",
    "for i in range(r):\n",
    "    row=[]\n",
    "    for j in range(c):\n",
    "        row.append(int(input()))\n",
    "    mat2.append(row)\n",
    "print(f\"Sum\\n{np.add(mat1,mat2)}\")\n"
   ]
  },
  {
   "cell_type": "markdown",
   "metadata": {},
   "source": [
    "# Tuple"
   ]
  },
  {
   "cell_type": "code",
   "execution_count": 25,
   "metadata": {},
   "outputs": [
    {
     "name": "stdout",
     "output_type": "stream",
     "text": [
      "Original Tuple : (1, 2, 3, 4, 5, 6, 7, 8, 9)\n",
      "Odd Tuple : (1, 3, 5, 7, 9)\n",
      "Even Tuple : (2, 4, 6, 8)\n"
     ]
    }
   ],
   "source": [
    "nums=(1,2,3,4,5,6,7,8,9)\n",
    "odd=()\n",
    "even=()\n",
    "for i in range(len(nums)):\n",
    "    if nums[i]%2==0:\n",
    "        even+=(nums[i],)\n",
    "    else:\n",
    "        odd+=(nums[i],)\n",
    "print(f\"Original Tuple : {nums}\\nOdd Tuple : {odd}\\nEven Tuple : {even}\")"
   ]
  },
  {
   "cell_type": "markdown",
   "metadata": {},
   "source": [
    "# Dictionary"
   ]
  },
  {
   "cell_type": "code",
   "execution_count": 37,
   "metadata": {},
   "outputs": [
    {
     "name": "stdout",
     "output_type": "stream",
     "text": [
      "Books : {'book1': 100, 'book2': 200}\n",
      "1.Add/Update\n",
      "2.Delete\n",
      "3.Display\n",
      "4.Exit\n",
      "Choose an option3\n",
      "Books : {'book1': 100, 'book2': 200}\n",
      "Choose an option3\n",
      "Books : {'book1': 100, 'book2': 200}\n",
      "Choose an option4\n"
     ]
    }
   ],
   "source": [
    "books={'book1':100,'book2':200}\n",
    "def add(books):\n",
    "    name=input(\"Enter the name of the book : \")\n",
    "    num=int(input(\"Enter the number of stocks : \"))\n",
    "    books.update({name:num})\n",
    "def delete(books):\n",
    "    name=input(\"Enter the name of the book to delete: \")\n",
    "    books.pop(name)\n",
    "print(f\"Books : {books}\")\n",
    "op=0\n",
    "print(\"1.Add/Update\\n2.Delete\\n3.Display\\n4.Exit\")\n",
    "while(op!=4):\n",
    "    op=(int(input(\"Choose an option\")))\n",
    "    if (op==1):\n",
    "        add(books)\n",
    "    elif (op==2):\n",
    "        delete(books)\n",
    "    elif op==3:\n",
    "        print(f\"Books : {books}\")"
   ]
  },
  {
   "cell_type": "code",
   "execution_count": 71,
   "metadata": {},
   "outputs": [],
   "source": [
    "f = open(\"demofile2.txt\", \"w\")\n",
    "f.write(\"1,2,3,4,5,6,7,8,9\")\n",
    "f.close()\n",
    "\n",
    "#open and read the file after the appending:\n",
    "f = open(\"demofile2.txt\", \"r\")\n",
    "l=map(int,f.read().split(\",\"))\n",
    "# for i in l:\n",
    "#     if i==0 or i==1:\n",
    "#         continue\n",
    "#     for j in range()"
   ]
  },
  {
   "cell_type": "code",
   "execution_count": 74,
   "metadata": {},
   "outputs": [
    {
     "ename": "ValueError",
     "evalue": "invalid literal for int() with base 10: ''",
     "output_type": "error",
     "traceback": [
      "\u001b[0;31m---------------------------------------------------------------------------\u001b[0m",
      "\u001b[0;31mValueError\u001b[0m                                Traceback (most recent call last)",
      "\u001b[0;32m<ipython-input-74-6e55a6617d85>\u001b[0m in \u001b[0;36m<module>\u001b[0;34m()\u001b[0m\n\u001b[0;32m----> 1\u001b[0;31m \u001b[0mw\u001b[0m\u001b[0;34m,\u001b[0m \u001b[0mh\u001b[0m  \u001b[0;34m=\u001b[0m \u001b[0mmap\u001b[0m\u001b[0;34m(\u001b[0m\u001b[0mint\u001b[0m\u001b[0;34m,\u001b[0m \u001b[0mf\u001b[0m\u001b[0;34m.\u001b[0m\u001b[0mreadline\u001b[0m\u001b[0;34m(\u001b[0m\u001b[0;34m)\u001b[0m\u001b[0;34m.\u001b[0m\u001b[0msplit\u001b[0m\u001b[0;34m(\u001b[0m\u001b[0;34m\",\"\u001b[0m\u001b[0;34m)\u001b[0m\u001b[0;34m)\u001b[0m\u001b[0;34m\u001b[0m\u001b[0;34m\u001b[0m\u001b[0m\n\u001b[0m",
      "\u001b[0;31mValueError\u001b[0m: invalid literal for int() with base 10: ''"
     ]
    }
   ],
   "source": []
  },
  {
   "cell_type": "code",
   "execution_count": null,
   "metadata": {},
   "outputs": [],
   "source": []
  }
 ],
 "metadata": {
  "kernelspec": {
   "display_name": "Python 3",
   "language": "python",
   "name": "python3"
  },
  "language_info": {
   "codemirror_mode": {
    "name": "ipython",
    "version": 3
   },
   "file_extension": ".py",
   "mimetype": "text/x-python",
   "name": "python",
   "nbconvert_exporter": "python",
   "pygments_lexer": "ipython3",
   "version": "3.6.9"
  }
 },
 "nbformat": 4,
 "nbformat_minor": 2
}
